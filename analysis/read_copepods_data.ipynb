{
 "cells": [
  {
   "cell_type": "code",
   "execution_count": null,
   "id": "3cff735b-7d58-4231-a05e-a70b019d4388",
   "metadata": {},
   "outputs": [],
   "source": [
    "using Pkg\n",
    "Pkg.activate(\"../\")\n",
    "Pkg.instantiate()\n",
    "include(\"../scripts/CopepodsNN.jl\")\n",
    "\n",
    "using Makie\n",
    "using GeoMakie\n",
    "using JupyterFormatter\n",
    "enable_autoformat()"
   ]
  },
  {
   "cell_type": "code",
   "execution_count": null,
   "id": "956f4594-f871-4c3b-a4a4-ac0a70c6a6d0",
   "metadata": {},
   "outputs": [],
   "source": [
    "using GeoDatasets\n",
    "# Land/sea mask and coastline\n",
    "lon_landsea, lat_landsea, landsea = GeoDatasets.landseamask(; resolution = 'i', grid = 2.5)\n",
    "landsea[landsea.==2] .= 1;\n",
    "landsea = Float64.(landsea)\n",
    "landsea[landsea.==0] .= NaN;\n",
    "\n",
    "coordscoast = GeoDatasets.gshhg(\"i\", 1);\n",
    "\n",
    "goodlon = findall((lon_landsea .<= domain[2]) .& (lon_landsea .>= domain[1]))\n",
    "goodlat = findall((lat_landsea .<= domain[4]) .& (lat_landsea .>= domain[3]))\n",
    "lon_landsea = lon_landsea[goodlon]\n",
    "lat_landsea = lat_landsea[goodlat]\n",
    "landsea = landsea[goodlon, goodlat];\n",
    "landsea[isnan.(landsea)] .= -999.0;"
   ]
  },
  {
   "cell_type": "code",
   "execution_count": null,
   "id": "272d66aa-cefa-42c4-82b0-f47cac8b7e3b",
   "metadata": {},
   "outputs": [],
   "source": [
    "domain = (-95, 27.5, 22.5, 79.0)\n",
    "yearmin = 1958\n",
    "yearmax = 2022\n",
    "fielddates_monthly = collect(Date(yearmin, 1, 15):Dates.Month(1):Date(yearmax, 12, 15));\n",
    "\n",
    "figdir = \"../product/figures/\"\n",
    "mkpath(figdir)\n",
    "datadir = \"../data/raw_data/\"\n",
    "dataprocdir = \"../data/derived_data/\"\n",
    "datafile = joinpath(datadir, \"CPR_DINCAE_Data_290925.csv\")\n",
    "isfile(datafile) ? @debug(\"OK\") : @warn(\"Data file not found\")"
   ]
  },
  {
   "cell_type": "code",
   "execution_count": null,
   "id": "6a3a7644-e9ed-42c8-97b2-974d0c8c8601",
   "metadata": {},
   "outputs": [],
   "source": [
    "@time lon, lat, dates, copepods_large, copepods_small, sampleID =\n",
    "    CopepodsNN.read_copepods_csv(datafile)"
   ]
  },
  {
   "cell_type": "code",
   "execution_count": null,
   "id": "675a7d3c-59a8-4ca5-b52e-85bcf708eb25",
   "metadata": {},
   "outputs": [],
   "source": []
  },
  {
   "cell_type": "code",
   "execution_count": null,
   "id": "88c0a8c7-1785-4f39-9f55-e6bea3f42783",
   "metadata": {},
   "outputs": [],
   "source": [
    "fig = Figure()\n",
    "ax = Axis(fig[1, 1])\n",
    "contourf!(ax, lon_landsea, lat_landsea, landsea, colormap = Reverse(:greys), levels = 3)\n",
    "scatter!(ax, lon, lat, color = :black, markersize = 2)\n",
    "display(fig)"
   ]
  },
  {
   "cell_type": "code",
   "execution_count": null,
   "id": "f9752ec8-7991-4e37-92e6-28e58edf07ef",
   "metadata": {},
   "outputs": [],
   "source": [
    "fig = Figure(size = (1000, 500))\n",
    "ax1 = Axis(fig[1, 1])\n",
    "hist!(ax1, copepods_small, bins = collect(0:1:20.0), color = :grey)\n",
    "ax2 = Axis(fig[1, 2])\n",
    "hist!(ax2, copepods_large, bins = collect(0:1:20.0), color = :grey)\n",
    "display(fig)"
   ]
  },
  {
   "cell_type": "code",
   "execution_count": null,
   "id": "05976045-3162-4a51-a2fe-b1da51be9467",
   "metadata": {},
   "outputs": [],
   "source": [
    "fig = Figure(size = (800, 800))\n",
    "ax = GeoAxis(fig[1, 1], dest = \"proj=merc\", title=\"Observations\")\n",
    "xlims!(domain[1], domain[2])\n",
    "ylims!(domain[3], domain[4])\n",
    "contourf!(ax, lon_landsea, lat_landsea, landsea, colormap = :binary, levels = 2)\n",
    "scatter!(ax, lon, lat, color = :green, markersize = 2)\n",
    "save(joinpath(figdir, \"data_location.jpeg\"), fig)\n",
    "# display(fig)"
   ]
  },
  {
   "cell_type": "code",
   "execution_count": null,
   "id": "4412581b-8f2d-4618-af2b-795aca9a14fb",
   "metadata": {},
   "outputs": [],
   "source": [
    "@time obsid, tracknum = CopepodsNN.get_obsid(sampleID);\n",
    "CopepodsNN.write_netcdf_CPR(\n",
    "    joinpath(dataprocdir, \"Small_copepods_DINCAE.nc\"),\n",
    "    lon,\n",
    "    lat,\n",
    "    dates,\n",
    "    copepods_small,\n",
    "    \"Small_copepods\",\n",
    "    obsid,\n",
    "    fielddates_monthly,\n",
    ");"
   ]
  },
  {
   "cell_type": "code",
   "execution_count": null,
   "id": "d0a6051d-7f4c-4495-b187-636a879d94d4",
   "metadata": {},
   "outputs": [],
   "source": []
  }
 ],
 "metadata": {
  "kernelspec": {
   "display_name": "Julia 1.11.7",
   "language": "julia",
   "name": "julia-1.11"
  },
  "language_info": {
   "file_extension": ".jl",
   "mimetype": "application/julia",
   "name": "julia",
   "version": "1.11.7"
  }
 },
 "nbformat": 4,
 "nbformat_minor": 5
}
